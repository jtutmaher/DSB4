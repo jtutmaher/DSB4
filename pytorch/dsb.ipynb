{
 "cells": [
  {
   "cell_type": "markdown",
   "metadata": {
    "_cell_guid": "e61ef2d8-f315-4f7f-b07e-1de0f4e8441a",
    "_uuid": "1677fddbb95f7545b6540e9201f3339a0fdbfc5d"
   },
   "source": [
    "# Intro\n",
    "Borrowed code from Keras U-Net starter to implement in PyTorch.\n",
    "\n",
    "The architecture used is the so-called [U-Net](https://arxiv.org/abs/1505.04597), which is very common for image segmentation problems such as this. I believe they also have a tendency to work quite well even on small datasets.\n",
    "\n",
    "Let's get started importing everything we need!"
   ]
  },
  {
   "cell_type": "code",
   "execution_count": 3,
   "metadata": {
    "_cell_guid": "c332549b-8d23-4bb5-8497-e7a8eb8b21d2",
    "_uuid": "5c38504af3a84bee68c66d3cde74443c58df422f",
    "collapsed": true
   },
   "outputs": [],
   "source": [
    "import os\n",
    "import sys\n",
    "import random\n",
    "import warnings\n",
    "\n",
    "import numpy as np\n",
    "import pandas as pd\n",
    "\n",
    "import matplotlib.pyplot as plt\n",
    "\n",
    "from PIL import Image, ImageEnhance\n",
    "\n",
    "from tqdm import tqdm\n",
    "from itertools import chain\n",
    "from skimage.io import imread, imshow, imread_collection, concatenate_images\n",
    "from skimage.transform import resize\n",
    "from skimage.morphology import label\n",
    "\n",
    "import torch\n",
    "import torch.nn as nn\n",
    "from torch.autograd import Variable\n",
    "from torchvision import transforms\n",
    "\n",
    "# Set some parameters\n",
    "IMG_CHANNELS = 3\n",
    "TRAIN_PATH = 'input/stage1_train/'\n",
    "TEST_PATH = 'input/stage1_test/'\n",
    "\n",
    "warnings.filterwarnings('ignore', category=UserWarning, module='skimage')\n",
    "seed = 42\n",
    "random.seed = seed\n",
    "np.random.seed = seed"
   ]
  },
  {
   "cell_type": "code",
   "execution_count": 4,
   "metadata": {
    "_cell_guid": "ffa0caf0-2d1b-40f2-865b-8e6db88526b6",
    "_uuid": "3fb9d6530fbbd0e22e41fc4fd9fd9fc0bff027ac",
    "collapsed": true
   },
   "outputs": [],
   "source": [
    "# Get train and test IDs\n",
    "train_ids = next(os.walk(TRAIN_PATH))[1]\n",
    "test_ids = next(os.walk(TEST_PATH))[1]"
   ]
  },
  {
   "cell_type": "markdown",
   "metadata": {
    "_cell_guid": "59c4a25d-645f-4b74-9c53-145ac78cc481",
    "_uuid": "875af74f980236825de3a650825b46e25632422c"
   },
   "source": [
    "# Get the data\n",
    "Let's first import all the images and associated masks. I downsample both the training and test images to keep things light and manageable, but we need to keep a record of the original sizes of the test images to upsample our predicted masks and create correct run-length encodings later on. There are definitely better ways to handle this, but it works fine for now!"
   ]
  },
  {
   "cell_type": "code",
   "execution_count": 147,
   "metadata": {
    "_cell_guid": "ca0cc34b-c26f-41ee-88d7-975aebdb634e",
    "_uuid": "9e389ba8bdb5b6fc03b231b6a6c84a8bde634053"
   },
   "outputs": [
    {
     "name": "stdout",
     "output_type": "stream",
     "text": [
      "Getting and resizing train images and masks ... \n"
     ]
    },
    {
     "name": "stderr",
     "output_type": "stream",
     "text": [
      "100%|██████████| 670/670 [01:21<00:00, 19.96it/s]"
     ]
    },
    {
     "name": "stdout",
     "output_type": "stream",
     "text": [
      "Getting and resizing test images ... \n"
     ]
    },
    {
     "name": "stderr",
     "output_type": "stream",
     "text": [
      "\n",
      "100%|██████████| 65/65 [00:00<00:00, 13521.96it/s]"
     ]
    },
    {
     "name": "stdout",
     "output_type": "stream",
     "text": [
      "Done!\n"
     ]
    },
    {
     "name": "stderr",
     "output_type": "stream",
     "text": [
      "\n"
     ]
    }
   ],
   "source": [
    "# Get and resize train images and masks\n",
    "X_train = []\n",
    "Y_train = []\n",
    "mask_counts = []\n",
    "mask_sizes = []\n",
    "print('Getting and resizing train images and masks ... ')\n",
    "sys.stdout.flush()\n",
    "for n, id_ in tqdm(enumerate(train_ids), total=len(train_ids)):\n",
    "    path = TRAIN_PATH + id_\n",
    "    img = Image.fromarray(imread(path + '/images/' + id_ + '.png')[:,:,:IMG_CHANNELS])\n",
    "    w, h = img.size\n",
    "    X_train.append(img)\n",
    "    mask = np.zeros((h, w), dtype=np.uint8)\n",
    "    mask_count = 0\n",
    "    for mask_file in next(os.walk(path + '/masks/'))[2]:\n",
    "        mask_ = imread(path + '/masks/' + mask_file)\n",
    "        mask = np.maximum(mask, mask_)\n",
    "        mask_count += 1\n",
    "        mask_sizes.append(mask_.sum())\n",
    "    Y_train.append(Image.fromarray(mask))\n",
    "    mask_counts.append(mask_count)\n",
    "# Get and resize test images\n",
    "X_test = []\n",
    "sizes_test = []\n",
    "print('Getting and resizing test images ... ')\n",
    "sys.stdout.flush()\n",
    "for n, id_ in tqdm(enumerate(test_ids), total=len(test_ids)):\n",
    "    path = TEST_PATH + id_\n",
    "    img = Image.open(path + '/images/' + id_ + '.png')\n",
    "    sizes_test.append([img.size[0], img.size[1]])\n",
    "    X_test.append(img)\n",
    "\n",
    "print('Done!')"
   ]
  },
  {
   "cell_type": "code",
   "execution_count": 134,
   "metadata": {},
   "outputs": [],
   "source": [
    "mask_sizes_hist = np.histogram(mask_sizes, bins=100)"
   ]
  },
  {
   "cell_type": "code",
   "execution_count": 146,
   "metadata": {},
   "outputs": [
    {
     "data": {
      "text/plain": [
       "65536"
      ]
     },
     "execution_count": 146,
     "metadata": {},
     "output_type": "execute_result"
    }
   ],
   "source": [
    "256*256"
   ]
  },
  {
   "cell_type": "code",
   "execution_count": 144,
   "metadata": {},
   "outputs": [
    {
     "data": {
      "text/plain": [
       "[<matplotlib.lines.Line2D at 0x145363320>]"
      ]
     },
     "execution_count": 144,
     "metadata": {},
     "output_type": "execute_result"
    },
    {
     "data": {
      "image/png": "[encoded data removed]",
      "text/plain": [
       "<matplotlib.figure.Figure at 0x1453b4a58>"
      ]
     },
     "metadata": {},
     "output_type": "display_data"
    }
   ],
   "source": [
    "plt.plot(mask_sizes_hist[1][1:], mask_sizes_hist[0])"
   ]
  },
  {
   "cell_type": "markdown",
   "metadata": {
    "_cell_guid": "c0523b03-1fc5-4505-a1b8-eb35ee617c8a",
    "_uuid": "d4f8327802a1ec6139ce0585953986272ba62ce1"
   },
   "source": [
    "Define some transformations.  Need them to be able to hold their parameters for both the image and the mask."
   ]
  },
  {
   "cell_type": "code",
   "execution_count": 54,
   "metadata": {
    "_cell_guid": "0545419e-2a35-49d2-9fb6-9be6cfb8ef2c",
    "_uuid": "471956ef93a1a9b17ddfe4746207be8172195bc2"
   },
   "outputs": [
    {
     "data": {
      "image/png": "[encoded data removed]",
      "text/plain": [
       "<matplotlib.figure.Figure at 0x12b45f320>"
      ]
     },
     "metadata": {},
     "output_type": "display_data"
    },
    {
     "data": {
      "image/png": "[encoded data removed]",
      "text/plain": [
       "<matplotlib.figure.Figure at 0x12b45e780>"
      ]
     },
     "metadata": {},
     "output_type": "display_data"
    },
    {
     "name": "stdout",
     "output_type": "stream",
     "text": [
      "375\n"
     ]
    }
   ],
   "source": [
    "plt.imshow(X_train[0])\n",
    "plt.show()\n",
    "plt.imshow(np.asarray(Y_train[0]))\n",
    "plt.show()\n",
    "print(max(mask_counts))"
   ]
  },
  {
   "cell_type": "code",
   "execution_count": 7,
   "metadata": {
    "_cell_guid": "02160e08-6315-43fc-abb0-928ee987c64b",
    "_uuid": "efe7111204ad5c4dd2b1e192a40a50a8d27d40f5",
    "collapsed": true
   },
   "outputs": [],
   "source": [
    "# create random crop class that holds parameters until called to switch\n",
    "class RandomCrop(object):\n",
    "    def __init__(self, size):\n",
    "        self.size = size\n",
    "        self.i = 0\n",
    "        self.j = 0\n",
    "        \n",
    "    def gen_params(self, img_size):\n",
    "        if self.size >= img_size:\n",
    "            self.i = 0\n",
    "            self.j = 0\n",
    "        else:\n",
    "            self.i = random.randint(0, img_size-self.size)\n",
    "            self.j = random.randint(0, img_size-self.size)\n",
    "    \n",
    "    def __call__(self, img):\n",
    "        return img.crop((self.i, self.j, self.i+self.size, self.j+self.size))"
   ]
  },
  {
   "cell_type": "code",
   "execution_count": 42,
   "metadata": {
    "_cell_guid": "fff1f0dd-4392-413c-a688-47fb718e61c7",
    "_uuid": "2a6a99657f6ab3dc0b6346691c76553ded8ca6b0",
    "collapsed": true
   },
   "outputs": [],
   "source": [
    "class RandomRotateAndFlip(object):\n",
    "    def __init__(self, max_angle):\n",
    "        self.max_angle = max_angle\n",
    "        self.angle = None\n",
    "        self.flip_horizontal = False\n",
    "        self.flip_vertical = False\n",
    "        \n",
    "    def gen_params(self):\n",
    "        self.angle = np.random.uniform(-self.max_angle, self.max_angle)\n",
    "        if np.random.uniform() < 0.5:\n",
    "            self.flip_horizontal = True\n",
    "        else:\n",
    "            self.flip_horizontal = False\n",
    "        if np.random.uniform() < 0.5:\n",
    "            self.flip_vertical = True\n",
    "        else:\n",
    "            self.flip_vertical = False\n",
    "        \n",
    "        \n",
    "    def __call__(self, img):\n",
    "        if self.angle is None:\n",
    "            self.gen_params()\n",
    "        return_img = img.rotate(self.angle, False, False, None)\n",
    "        if self.flip_horizontal:\n",
    "            return_img = return_img.transpose(Image.FLIP_LEFT_RIGHT)\n",
    "        if self.flip_vertical:\n",
    "            return_img = return_img.transpose(Image.FLIP_TOP_BOTTOM)\n",
    "        return return_img"
   ]
  },
  {
   "cell_type": "code",
   "execution_count": 43,
   "metadata": {
    "_cell_guid": "83fbb7ed-c42e-46e5-b364-502af1bf3d5a",
    "_uuid": "e5adafd446be2ec93c2e45822e7f1ec92a18c9bd",
    "collapsed": true
   },
   "outputs": [],
   "source": [
    "class RandomColorJitter(object):\n",
    "    def __init__(self, brightness=0.1, contrast=0.1, saturation=0.1):\n",
    "        self.brightness = brightness\n",
    "        self.contrast = contrast\n",
    "        self.saturation = saturation\n",
    "        self.brightness_factor = None\n",
    "        self.contrast_factor = None\n",
    "        self.saturation_factor = None\n",
    "    \n",
    "    def gen_params(self):\n",
    "        self.brightness_factor = np.random.uniform(max(0, 1.0-self.brightness), 1.0+self.brightness)\n",
    "        self.contrast_factor = np.random.uniform(max(0, 1.0-self.contrast), 1.0+self.contrast)\n",
    "        self.saturation_factor = np.random.uniform(max(0, 1.0-self.saturation), 1.0+self.saturation)\n",
    "        \n",
    "    def __call__(self, img):\n",
    "        if self.brightness_factor is None:\n",
    "            self.gen_params()\n",
    "        brightness_enhancer = ImageEnhance.Brightness(img)\n",
    "        return_img = brightness_enhancer.enhance(self.brightness_factor)\n",
    "        contrast_enhancer = ImageEnhance.Contrast(return_img)\n",
    "        return_img = contrast_enhancer.enhance(self.contrast_factor)\n",
    "        color_enhancer = ImageEnhance.Color(return_img)\n",
    "        return_img = color_enhancer.enhance(self.saturation_factor)\n",
    "        return return_img"
   ]
  },
  {
   "cell_type": "code",
   "execution_count": 49,
   "metadata": {
    "_cell_guid": "4743448c-f544-4c6f-8d51-f1bbe3be68e0",
    "_uuid": "7d329614b400737942a02cabc0a545e3f931898c"
   },
   "outputs": [],
   "source": [
    "from torch.utils.data import Dataset, DataLoader\n",
    "import torchvision.transforms as transforms\n",
    "\n",
    "img_size = 128\n",
    "class NucleusDataset(Dataset):\n",
    "    def __init__(self, X, y):\n",
    "        self.X = X\n",
    "        self.y = y\n",
    "        self.crop = RandomCrop(112)\n",
    "        self.rot_flip = RandomRotateAndFlip(180)\n",
    "        self.jitter_factor = 0.2\n",
    "        self.color_jitter = RandomColorJitter(self.jitter_factor, \n",
    "                                              self.jitter_factor, \n",
    "                                              self.jitter_factor)\n",
    "        self.X_transforms = transforms.Compose([transforms.Scale(img_size),\n",
    "                                                #self.crop, \n",
    "                                                self.rot_flip, \n",
    "                                                #self.color_jitter, \n",
    "                                                transforms.ToTensor(),\n",
    "                                                #transforms.Normalize((0.5, 0.5, 0.5), \n",
    "                                                #                     (0.5, 0.5, 0.5))\n",
    "                                               ])\n",
    "        self.Y_transforms = transforms.Compose([transforms.Scale(img_size),\n",
    "                                                #self.crop, \n",
    "                                                self.rot_flip, \n",
    "                                                transforms.ToTensor()])\n",
    "\n",
    "    def __getitem__(self, index):\n",
    "        self.gen_params(img_size)\n",
    "        return {'X': self.X_transforms(self.X[index]), \n",
    "                'y': self.Y_transforms(self.y[index])}\n",
    "    \n",
    "    def __len__(self):\n",
    "        return len(self.X)\n",
    "    \n",
    "    def gen_params(self, img_size):\n",
    "        self.crop.gen_params(img_size)\n",
    "        self.rot_flip.gen_params()\n",
    "        self.color_jitter.gen_params()"
   ]
  },
  {
   "cell_type": "code",
   "execution_count": 50,
   "metadata": {
    "_cell_guid": "36c22ff2-b4a8-4d72-abcb-2571a05da2d7",
    "_uuid": "e620779620a9be0d9cda43ce7561ef49e6ceec63"
   },
   "outputs": [],
   "source": [
    "train_dataset = NucleusDataset(X_train, Y_train)\n",
    "train_dataloader = DataLoader(train_dataset, batch_size=8, shuffle=True)"
   ]
  },
  {
   "cell_type": "code",
   "execution_count": 51,
   "metadata": {
    "_cell_guid": "48dadf20-adb8-4141-8edd-6dd42a9bcc4d",
    "_uuid": "ea86f130f6f7ac85b0730c174e311213019696ac",
    "collapsed": true
   },
   "outputs": [],
   "source": [
    "def unnorm(x):\n",
    "    un_x = 255*(x*0.5+0.5)\n",
    "    return un_x.astype(np.uint8)"
   ]
  },
  {
   "cell_type": "code",
   "execution_count": 52,
   "metadata": {
    "_cell_guid": "88829b53-50ce-45d9-9540-77dd7384ad4c",
    "_uuid": "283af26f0860b7069bdfd133c746e5d20971542c"
   },
   "outputs": [
    {
     "name": "stdout",
     "output_type": "stream",
     "text": [
      "gen_params\n",
      "call\n",
      "call\n"
     ]
    },
    {
     "data": {
      "image/png": "[encoded data removed]",
      "text/plain": [
       "<matplotlib.figure.Figure at 0x12b3854a8>"
      ]
     },
     "metadata": {},
     "output_type": "display_data"
    },
    {
     "data": {
      "image/png": "[encoded data removed]",
      "text/plain": [
       "<matplotlib.figure.Figure at 0x12fa14940>"
      ]
     },
     "metadata": {},
     "output_type": "display_data"
    },
    {
     "data": {
      "image/png": "[encoded data removed]",
      "text/plain": [
       "<matplotlib.figure.Figure at 0x12f9c4748>"
      ]
     },
     "metadata": {},
     "output_type": "display_data"
    },
    {
     "data": {
      "image/png": "[encoded data removed]",
      "text/plain": [
       "<matplotlib.figure.Figure at 0x12b610630>"
      ]
     },
     "metadata": {},
     "output_type": "display_data"
    }
   ],
   "source": [
    "# Check if training data looks all right\n",
    "#ix = random.randint(0, len(train_dataset))\n",
    "ix = 0\n",
    "sample = train_dataset[ix]\n",
    "X_train_sample = sample['X']\n",
    "Y_train_sample = sample['y']\n",
    "plt.imshow(X_train[ix])\n",
    "plt.show()\n",
    "plt.imshow(np.asarray(Y_train[ix]))\n",
    "plt.show()\n",
    "plt.imshow(unnorm(X_train_sample.numpy().transpose(1,2,0)))\n",
    "plt.show()\n",
    "plt.imshow(Y_train_sample.numpy()[0])\n",
    "plt.show()"
   ]
  },
  {
   "cell_type": "markdown",
   "metadata": {
    "_cell_guid": "c3b9f148-1dba-4b6a-981b-6cdbf394fc3c",
    "_uuid": "986488a4c5223576be370e224426a30431911eb2"
   },
   "source": [
    "# Build and train our neural network\n",
    "Next we build our U-Net model, loosely based on [U-Net: Convolutional Networks for Biomedical Image Segmentation](https://arxiv.org/pdf/1505.04597.pdf) and very similar to [this repo](https://github.com/jocicmarko/ultrasound-nerve-segmentation) from the Kaggle Ultrasound Nerve Segmentation competition.\n",
    "\n",
    "![](https://lmb.informatik.uni-freiburg.de/people/ronneber/u-net/u-net-architecture.png)"
   ]
  },
  {
   "cell_type": "code",
   "execution_count": 38,
   "metadata": {
    "_cell_guid": "c1dbc57c-b497-4ccb-b077-2053203ab7ed",
    "_uuid": "0aa97d66c29f45dfac9b0f45fcf74ba0e778ba5d",
    "collapsed": true
   },
   "outputs": [],
   "source": [
    "# Build U-Net model\n",
    "class DownBlock(nn.Module):\n",
    "    def __init__(self, in_channels, out_channels, kernel_size=3):\n",
    "        super(DownBlock, self).__init__()\n",
    "        self.block = nn.Sequential(\n",
    "            nn.Conv2d(in_channels, out_channels, kernel_size, padding=0),\n",
    "            nn.ReflectionPad2d(kernel_size//2),\n",
    "            nn.BatchNorm2d(out_channels),\n",
    "            nn.ReLU(True),\n",
    "            nn.Conv2d(out_channels, out_channels, kernel_size, padding=0),\n",
    "            nn.ReflectionPad2d(kernel_size//2),\n",
    "            nn.BatchNorm2d(out_channels),\n",
    "            nn.ReLU(True)\n",
    "        )\n",
    "    \n",
    "    def forward(self, x):\n",
    "        c = self.block(x)\n",
    "        return c\n",
    "\n",
    "class UpBlock(nn.Module):\n",
    "    def __init__(self, in_channels, out_channels, kernel_size=2, stride=2):\n",
    "        super(UpBlock, self).__init__()\n",
    "        self.up = nn.ConvTranspose2d(in_channels, out_channels, kernel_size, stride, padding=0)\n",
    "        self.conv = DownBlock(2*out_channels, out_channels)\n",
    "    \n",
    "    def forward(self, x1, x2):\n",
    "        x = torch.cat([self.up(x1), x2], dim=1)\n",
    "        return self.conv(x)\n",
    "        \n",
    "class UNet(nn.Module):\n",
    "    def __init__(self, n_channels, n_classes):\n",
    "        super(UNet, self).__init__()\n",
    "        self.dblock1 = DownBlock(n_channels, 64)\n",
    "        self.pool1 = nn.MaxPool2d(2, stride=2, ceil_mode=True)\n",
    "        self.dblock2 = DownBlock(64, 128)\n",
    "        self.pool2 = nn.MaxPool2d(2, stride=2, ceil_mode=True)\n",
    "        self.dblock3 = DownBlock(128, 256)\n",
    "        self.pool3 = nn.MaxPool2d(2, stride=2, ceil_mode=True)\n",
    "        self.dblock4 = DownBlock(256, 512)\n",
    "        self.pool4 = nn.MaxPool2d(2, stride=2, ceil_mode=True)\n",
    "        self.dblock5 = DownBlock(512, 1024)\n",
    "        self.ublock5 = UpBlock(1024, 512)\n",
    "        self.ublock4 = UpBlock(512, 256)\n",
    "        self.ublock3 = UpBlock(256, 128)\n",
    "        self.ublock2 = UpBlock(128, 64)\n",
    "        self.output = nn.Conv2d(64, n_classes, kernel_size=1, groups=1, stride=1)\n",
    "        \n",
    "    def forward(self, x):\n",
    "        c1 = self.dblock1(x)\n",
    "        p1 = self.pool1(c1)\n",
    "        c2 = self.dblock2(p1)\n",
    "        p2 = self.pool1(c2)\n",
    "        c3 = self.dblock3(p2)\n",
    "        p3 = self.pool1(c3)\n",
    "        c4 = self.dblock4(p3)\n",
    "        p4 = self.pool1(c4)\n",
    "        c5 = self.dblock5(p4)\n",
    "        u5 = self.ublock5(c5, c4)\n",
    "        u4 = self.ublock4(u5, c3)\n",
    "        u3 = self.ublock3(u4, c2)\n",
    "        u2 = self.ublock2(u3, c1)\n",
    "\n",
    "        return self.output(u2)"
   ]
  },
  {
   "cell_type": "code",
   "execution_count": 39,
   "metadata": {
    "_cell_guid": "386e4ff1-90ed-4532-aec3-1950bd1c1f51",
    "_uuid": "d0f091e70608662fb64f4a617a2efbb42a60d97f",
    "collapsed": true
   },
   "outputs": [],
   "source": [
    "model = UNet(3, 2)"
   ]
  },
  {
   "cell_type": "code",
   "execution_count": 40,
   "metadata": {
    "_cell_guid": "e7f7a8d2-3f5e-4f0a-8a06-799da665ece9",
    "_uuid": "9a70c252db4b4f4fbd8df0e8ebafa82f987afb1d",
    "collapsed": true
   },
   "outputs": [],
   "source": [
    "optimizer = torch.optim.Adam(model.parameters(), lr=0.1)"
   ]
  },
  {
   "cell_type": "code",
   "execution_count": 41,
   "metadata": {
    "_cell_guid": "11d9bea1-48d7-476c-af12-3e56c888977a",
    "_uuid": "040aab181312998622e9ee556177d0b600710820",
    "collapsed": true
   },
   "outputs": [],
   "source": [
    "def recon_loss(output, mask):\n",
    "    probs = nn.Sigmoid()(output)\n",
    "    intersection = torch.sum(probs[:,1,:,:]*mask.squeeze(1))\n",
    "    return 1.0 - ((2.0*intersection+1.0)/(torch.sum(probs[:,1,:,:]) + torch.sum(mask) + 1.0))"
   ]
  },
  {
   "cell_type": "code",
   "execution_count": 42,
   "metadata": {
    "_cell_guid": "53a9cbb1-5020-4307-b263-2ddbf5145886",
    "_uuid": "3381b87262dc8c7616b3753820d2636ab20d29ae",
    "scrolled": true
   },
   "outputs": [
    {
     "name": "stderr",
     "output_type": "stream",
     "text": [
      "\n",
      "  0%|          | 0/30 [00:00<?, ?it/s]\u001b[A\n"
     ]
    },
    {
     "name": "stdout",
     "output_type": "stream",
     "text": [
      "loss: 0.8376429\n",
      "loss: 0.7837669\n",
      "loss: 0.8046831\n",
      "loss: 0.7015689\n",
      "loss: 0.8264271\n",
      "loss: 0.6818615\n",
      "loss: 0.6948967\n",
      "loss: 0.7433039\n",
      "loss: 0.86274177\n",
      "loss: 0.84980184\n",
      "loss: 0.75441015\n",
      "loss: 0.61562103\n",
      "loss: 0.6475035\n",
      "loss: 0.76855916\n",
      "loss: 0.756196\n",
      "loss: 0.754006\n",
      "loss: 0.90535575\n",
      "loss: 0.80086356\n",
      "loss: 0.929636\n",
      "loss: 0.7947747\n",
      "loss: 0.92611253\n",
      "loss: 0.8078059\n",
      "loss: 0.8733214\n",
      "loss: 0.8594793\n",
      "loss: 0.79911536\n",
      "loss: 0.82940847\n",
      "loss: 0.8241956\n",
      "loss: 0.7380117\n",
      "loss: 0.91435206\n",
      "loss: 0.7458494\n",
      "loss: 0.6854248\n",
      "loss: 0.79372007\n",
      "loss: 0.8609029\n",
      "loss: 0.7241658\n",
      "loss: 0.8369084\n",
      "loss: 0.7921518\n",
      "loss: 0.84146655\n",
      "loss: 0.65679103\n",
      "loss: 0.7441887\n",
      "loss: 0.8229792\n",
      "loss: 0.78030014\n",
      "loss: 0.75882554\n",
      "loss: 0.7575981\n",
      "loss: 0.8893007\n",
      "loss: 0.6823485\n",
      "loss: 0.7989309\n",
      "loss: 0.75814146\n",
      "loss: 0.83214724\n",
      "loss: 0.7557324\n",
      "loss: 0.755728\n",
      "loss: 0.8275427\n",
      "loss: 0.7959476\n",
      "loss: 0.7376236\n",
      "loss: 0.7856986\n",
      "loss: 0.8734446\n",
      "loss: 0.7198408\n",
      "loss: 0.87878656\n",
      "loss: 0.8274062\n",
      "loss: 0.7172917\n",
      "loss: 0.73868597\n",
      "loss: 0.7706562\n",
      "loss: 0.86263525\n",
      "loss: 0.84212327\n",
      "loss: 0.84670794\n",
      "loss: 0.81043994\n",
      "loss: 0.67090786\n",
      "loss: 0.7466848\n",
      "loss: 0.75373274\n",
      "loss: 0.74178433\n",
      "loss: 0.82596326\n",
      "loss: 0.8433582\n",
      "loss: 0.8110111\n",
      "loss: 0.8477141\n",
      "loss: 0.77969253\n",
      "loss: 0.6879792\n",
      "loss: 0.8197185\n",
      "loss: 0.6941933\n",
      "loss: 0.73921597\n",
      "loss: 0.73547214\n",
      "loss: 0.7749107\n",
      "loss: 0.8228447\n",
      "loss: 0.77272767\n",
      "loss: 0.68040705\n",
      "loss: 0.75956273\n"
     ]
    },
    {
     "name": "stderr",
     "output_type": "stream",
     "text": [
      "\r",
      "  3%|▎         | 1/30 [10:39<5:08:51, 639.03s/it]"
     ]
    },
    {
     "name": "stdout",
     "output_type": "stream",
     "text": [
      "loss: 0.807024\n",
      "loss: 0.75884295\n",
      "loss: 0.7808777\n",
      "loss: 0.6988694\n",
      "loss: 0.7551134\n",
      "loss: 0.76949155\n",
      "loss: 0.75941527\n",
      "loss: 0.71899015\n",
      "loss: 0.7249895\n",
      "loss: 0.82796973\n",
      "loss: 0.7900314\n",
      "loss: 0.7937522\n",
      "loss: 0.8089385\n",
      "loss: 0.8131973\n",
      "loss: 0.7422205\n",
      "loss: 0.7410871\n",
      "loss: 0.7667898\n",
      "loss: 0.80406666\n",
      "loss: 0.79747903\n",
      "loss: 0.8244143\n",
      "loss: 0.73710144\n",
      "loss: 0.79395247\n",
      "loss: 0.7634431\n",
      "loss: 0.8004198\n",
      "loss: 0.7314055\n",
      "loss: 0.79373544\n",
      "loss: 0.78989637\n",
      "loss: 0.8988552\n",
      "loss: 0.8479246\n",
      "loss: 0.78696465\n",
      "loss: 0.7775108\n",
      "loss: 0.7080158\n",
      "loss: 0.7909786\n",
      "loss: 0.7445874\n",
      "loss: 0.7291312\n",
      "loss: 0.7288878\n",
      "loss: 0.69567835\n",
      "loss: 0.80052876\n",
      "loss: 0.75840175\n",
      "loss: 0.85369396\n",
      "loss: 0.7588793\n",
      "loss: 0.7583918\n",
      "loss: 0.81360584\n",
      "loss: 0.71783054\n",
      "loss: 0.78055334\n",
      "loss: 0.7662826\n",
      "loss: 0.8313023\n",
      "loss: 0.8246951\n",
      "loss: 0.7292118\n",
      "loss: 0.7633856\n",
      "loss: 0.8461441\n",
      "loss: 0.700722\n",
      "loss: 0.80141896\n",
      "loss: 0.81024975\n",
      "loss: 0.7983979\n",
      "loss: 0.8629146\n",
      "loss: 0.7231224\n",
      "loss: 0.79934466\n",
      "loss: 0.7934864\n",
      "loss: 0.78149134\n",
      "loss: 0.7787267\n",
      "loss: 0.7169877\n",
      "loss: 0.770128\n",
      "loss: 0.76514447\n",
      "loss: 0.7270839\n",
      "loss: 0.7858416\n",
      "loss: 0.8254411\n",
      "loss: 0.77141696\n",
      "loss: 0.73340154\n",
      "loss: 0.7621495\n",
      "loss: 0.76013017\n",
      "loss: 0.7702611\n",
      "loss: 0.8447966\n",
      "loss: 0.8871451\n",
      "loss: 0.799629\n",
      "loss: 0.8274994\n",
      "loss: 0.84355986\n",
      "loss: 0.7957835\n",
      "loss: 0.8552228\n",
      "loss: 0.8065206\n",
      "loss: 0.7520689\n",
      "loss: 0.7469418\n",
      "loss: 0.7688998\n",
      "loss: 0.85522807\n"
     ]
    },
    {
     "name": "stderr",
     "output_type": "stream",
     "text": [
      "\r",
      "  7%|▋         | 2/30 [20:22<4:50:23, 622.28s/it]"
     ]
    },
    {
     "name": "stdout",
     "output_type": "stream",
     "text": [
      "loss: 0.76622915\n",
      "loss: 0.6873653\n",
      "loss: 0.7338484\n",
      "loss: 0.79843885\n",
      "loss: 0.8583054\n",
      "loss: 0.81724274\n",
      "loss: 0.78961724\n",
      "loss: 0.77094334\n",
      "loss: 0.80366\n",
      "loss: 0.7906171\n",
      "loss: 0.86701244\n",
      "loss: 0.83660084\n",
      "loss: 0.8211015\n",
      "loss: 0.79493976\n",
      "loss: 0.82693076\n",
      "loss: 0.7883426\n",
      "loss: 0.79665786\n",
      "loss: 0.7865888\n",
      "loss: 0.7592057\n",
      "loss: 0.7931215\n",
      "loss: 0.83183944\n",
      "loss: 0.7568811\n",
      "loss: 0.6713711\n",
      "loss: 0.7954106\n",
      "loss: 0.8002867\n",
      "loss: 0.7637327\n",
      "loss: 0.9549833\n",
      "loss: 0.839554\n",
      "loss: 0.8545112\n",
      "loss: 0.77335554\n",
      "loss: 0.7697409\n",
      "loss: 0.7600385\n"
     ]
    },
    {
     "ename": "KeyboardInterrupt",
     "evalue": "",
     "output_type": "error",
     "traceback": [
      "\u001b[0;31m---------------------------------------------------------------------------\u001b[0m",
      "\u001b[0;31mKeyboardInterrupt\u001b[0m                         Traceback (most recent call last)",
      "\u001b[0;32m<ipython-input-42-1f792c6591ec>\u001b[0m in \u001b[0;36m<module>\u001b[0;34m()\u001b[0m\n\u001b[1;32m      9\u001b[0m         \u001b[0mloss\u001b[0m \u001b[0;34m=\u001b[0m \u001b[0mrecon_loss\u001b[0m\u001b[0;34m(\u001b[0m\u001b[0moutput\u001b[0m\u001b[0;34m,\u001b[0m \u001b[0mtarget\u001b[0m\u001b[0;34m)\u001b[0m\u001b[0;34m\u001b[0m\u001b[0m\n\u001b[1;32m     10\u001b[0m         \u001b[0mprint\u001b[0m\u001b[0;34m(\u001b[0m\u001b[0;34m\"loss: \"\u001b[0m \u001b[0;34m+\u001b[0m \u001b[0mstr\u001b[0m\u001b[0;34m(\u001b[0m\u001b[0mloss\u001b[0m\u001b[0;34m.\u001b[0m\u001b[0mdata\u001b[0m\u001b[0;34m.\u001b[0m\u001b[0mnumpy\u001b[0m\u001b[0;34m(\u001b[0m\u001b[0;34m)\u001b[0m\u001b[0;34m[\u001b[0m\u001b[0;36m0\u001b[0m\u001b[0;34m]\u001b[0m\u001b[0;34m)\u001b[0m\u001b[0;34m)\u001b[0m\u001b[0;34m\u001b[0m\u001b[0m\n\u001b[0;32m---> 11\u001b[0;31m         \u001b[0mloss\u001b[0m\u001b[0;34m.\u001b[0m\u001b[0mbackward\u001b[0m\u001b[0;34m(\u001b[0m\u001b[0;34m)\u001b[0m\u001b[0;34m\u001b[0m\u001b[0m\n\u001b[0m\u001b[1;32m     12\u001b[0m         \u001b[0moptimizer\u001b[0m\u001b[0;34m.\u001b[0m\u001b[0mstep\u001b[0m\u001b[0;34m(\u001b[0m\u001b[0;34m)\u001b[0m\u001b[0;34m\u001b[0m\u001b[0m\n",
      "\u001b[0;32m/usr/local/lib/python3.6/site-packages/torch/autograd/variable.py\u001b[0m in \u001b[0;36mbackward\u001b[0;34m(self, gradient, retain_graph, create_graph, retain_variables)\u001b[0m\n\u001b[1;32m    154\u001b[0m                 \u001b[0mVariable\u001b[0m\u001b[0;34m.\u001b[0m\u001b[0;34m\u001b[0m\u001b[0m\n\u001b[1;32m    155\u001b[0m         \"\"\"\n\u001b[0;32m--> 156\u001b[0;31m         \u001b[0mtorch\u001b[0m\u001b[0;34m.\u001b[0m\u001b[0mautograd\u001b[0m\u001b[0;34m.\u001b[0m\u001b[0mbackward\u001b[0m\u001b[0;34m(\u001b[0m\u001b[0mself\u001b[0m\u001b[0;34m,\u001b[0m \u001b[0mgradient\u001b[0m\u001b[0;34m,\u001b[0m \u001b[0mretain_graph\u001b[0m\u001b[0;34m,\u001b[0m \u001b[0mcreate_graph\u001b[0m\u001b[0;34m,\u001b[0m \u001b[0mretain_variables\u001b[0m\u001b[0;34m)\u001b[0m\u001b[0;34m\u001b[0m\u001b[0m\n\u001b[0m\u001b[1;32m    157\u001b[0m \u001b[0;34m\u001b[0m\u001b[0m\n\u001b[1;32m    158\u001b[0m     \u001b[0;32mdef\u001b[0m \u001b[0mregister_hook\u001b[0m\u001b[0;34m(\u001b[0m\u001b[0mself\u001b[0m\u001b[0;34m,\u001b[0m \u001b[0mhook\u001b[0m\u001b[0;34m)\u001b[0m\u001b[0;34m:\u001b[0m\u001b[0;34m\u001b[0m\u001b[0m\n",
      "\u001b[0;32m/usr/local/lib/python3.6/site-packages/torch/autograd/__init__.py\u001b[0m in \u001b[0;36mbackward\u001b[0;34m(variables, grad_variables, retain_graph, create_graph, retain_variables)\u001b[0m\n\u001b[1;32m     96\u001b[0m \u001b[0;34m\u001b[0m\u001b[0m\n\u001b[1;32m     97\u001b[0m     Variable._execution_engine.run_backward(\n\u001b[0;32m---> 98\u001b[0;31m         variables, grad_variables, retain_graph)\n\u001b[0m\u001b[1;32m     99\u001b[0m \u001b[0;34m\u001b[0m\u001b[0m\n\u001b[1;32m    100\u001b[0m \u001b[0;34m\u001b[0m\u001b[0m\n",
      "\u001b[0;31mKeyboardInterrupt\u001b[0m: "
     ]
    }
   ],
   "source": [
    "n_epochs = 30\n",
    "for _ in tqdm(range(n_epochs)):\n",
    "    for data in train_dataloader:\n",
    "        optimizer.zero_grad()\n",
    "        X = Variable(data['X'])\n",
    "        target = Variable(data['y'])\n",
    "        output = model(X)\n",
    "        loss = recon_loss(output, target)\n",
    "        print(\"loss: \" + str(loss.data.numpy()[0]))\n",
    "        loss.backward()\n",
    "        optimizer.step()"
   ]
  },
  {
   "cell_type": "markdown",
   "metadata": {
    "_cell_guid": "1f381f5b-1b71-4daa-a417-e02f4894540b",
    "_uuid": "bb15226ea617cf91ed8f43179fccb5a15809e5a0"
   },
   "source": [
    "All right, looks good! Loss seems to be a bit erratic, though. I'll leave it to you to improve the model architecture and parameters! \n",
    "\n",
    "# Make predictions\n",
    "\n",
    "Let's make predictions both on the test set, the val set and the train set (as a sanity check). Remember to load the best saved model if you've used early stopping and checkpointing."
   ]
  },
  {
   "cell_type": "code",
   "execution_count": null,
   "metadata": {
    "_cell_guid": "2daa48d5-ac98-4e18-af3f-a582baaa44f0",
    "_uuid": "f841760b4abca1a25cb750822f88268bd79bf2ce",
    "collapsed": true
   },
   "outputs": [],
   "source": [
    "# Predict on train, val and test\n",
    "#model = load_model('../models/dsbowl2018-1.h5')\n",
    "preds_train = model.predict(X_train[:int(X_train.shape[0]*0.9)], verbose=1)\n",
    "preds_val = model.predict(X_train[int(X_train.shape[0]*0.9):], verbose=1)\n",
    "preds_test = model.predict(X_test, verbose=1)\n",
    "\n",
    "# Threshold predictions\n",
    "preds_train_t = (preds_train > 0.5).astype(np.uint8)\n",
    "preds_val_t = (preds_val > 0.5).astype(np.uint8)\n",
    "preds_test_t = (preds_test > 0.5).astype(np.uint8)\n",
    "\n",
    "# Create list of upsampled test masks\n",
    "preds_test_upsampled = []\n",
    "for i in range(len(preds_test)):\n",
    "    preds_test_upsampled.append(resize(np.squeeze(preds_test[i]), \n",
    "                                       (sizes_test[i][0], sizes_test[i][1]), \n",
    "                                       mode='constant', preserve_range=True))"
   ]
  },
  {
   "cell_type": "code",
   "execution_count": null,
   "metadata": {
    "_cell_guid": "649248cd-a1fb-4da6-ade2-4bebad44bcab",
    "_uuid": "7e06242a50870e07a080064a4912b761775990fa",
    "collapsed": true
   },
   "outputs": [],
   "source": [
    "# Perform a sanity check on some random training samples\n",
    "ix = random.randint(0, len(preds_train_t))\n",
    "imshow(X_train[ix])\n",
    "plt.show()\n",
    "imshow(np.squeeze(Y_train[ix]))\n",
    "plt.show()\n",
    "imshow(np.squeeze(preds_train_t[ix]))\n",
    "plt.show()"
   ]
  },
  {
   "cell_type": "markdown",
   "metadata": {
    "_cell_guid": "af602aea-5e56-42a8-9331-54b4b2650593",
    "_uuid": "5fcee2b9aee2fba5c60d43ad48a14139e9c1318c"
   },
   "source": [
    "The model is at least able to fit to the training data! Certainly a lot of room for improvement even here, but a decent start. How about the validation data?"
   ]
  },
  {
   "cell_type": "code",
   "execution_count": null,
   "metadata": {
    "_cell_guid": "4f66b75c-c694-41a1-8c91-34bb6595837b",
    "_uuid": "d4ccbb559375bc2777ffb692a20adc313159f2cc",
    "collapsed": true
   },
   "outputs": [],
   "source": [
    "# Perform a sanity check on some random validation samples\n",
    "ix = random.randint(0, len(preds_val_t))\n",
    "imshow(X_train[int(X_train.shape[0]*0.9):][ix])\n",
    "plt.show()\n",
    "imshow(np.squeeze(Y_train[int(Y_train.shape[0]*0.9):][ix]))\n",
    "plt.show()\n",
    "imshow(np.squeeze(preds_val_t[ix]))\n",
    "plt.show()"
   ]
  },
  {
   "cell_type": "markdown",
   "metadata": {
    "_cell_guid": "a6690535-b2e4-49ac-98d9-7191bfabfb6f",
    "_uuid": "6a34c98de7c6ae473f676a34fe7e099b46764eca"
   },
   "source": [
    "Not too shabby! Definitely needs some more training and tweaking.\n",
    "\n",
    "# Encode and submit our results\n",
    "\n",
    "Now it's time to submit our results. I've stolen [this](https://www.kaggle.com/rakhlin/fast-run-length-encoding-python) excellent implementation of run-length encoding."
   ]
  },
  {
   "cell_type": "code",
   "execution_count": 67,
   "metadata": {
    "_cell_guid": "59a0af60-a7d7-41ef-a6fe-9e3c72defa07",
    "_uuid": "4f99c1bf852e82b60bd4f982ca0df293f712cdf0",
    "collapsed": true
   },
   "outputs": [],
   "source": [
    "# Run-length encoding stolen from https://www.kaggle.com/rakhlin/fast-run-length-encoding-python\n",
    "def rle_encoding(x):\n",
    "    dots = np.where(x.T.flatten() == 1)[0]\n",
    "    run_lengths = []\n",
    "    prev = -2\n",
    "    for b in dots:\n",
    "        if (b>prev+1): run_lengths.extend((b + 1, 0))\n",
    "        run_lengths[-1] += 1\n",
    "        prev = b\n",
    "    return run_lengths\n",
    "\n",
    "def prob_to_rles(x, cutoff=0.5):\n",
    "    lab_img = label(x > cutoff)\n",
    "    for i in range(1, lab_img.max() + 1):\n",
    "        yield rle_encoding(lab_img == i)"
   ]
  },
  {
   "cell_type": "code",
   "execution_count": 61,
   "metadata": {},
   "outputs": [
    {
     "name": "stdout",
     "output_type": "stream",
     "text": [
      "(256, 256)\n",
      "23\n",
      "0\n"
     ]
    }
   ],
   "source": [
    "lab = label(np.asarray(Y_train[0]) > 0.5)\n",
    "print(lab.shape)\n",
    "print(lab.max())\n",
    "print(lab.min())"
   ]
  },
  {
   "cell_type": "code",
   "execution_count": 60,
   "metadata": {},
   "outputs": [
    {
     "data": {
      "image/png": "[encoded data removed]",
      "text/plain": [
       "<matplotlib.figure.Figure at 0x12fce4710>"
      ]
     },
     "metadata": {},
     "output_type": "display_data"
    }
   ],
   "source": [
    "plt.imshow(lab)\n",
    "plt.colorbar()\n",
    "plt.show()"
   ]
  },
  {
   "cell_type": "code",
   "execution_count": 71,
   "metadata": {},
   "outputs": [],
   "source": [
    "labs = [np.copy(lab) for _ in range(lab.max())]\n",
    "for i in range(1, lab.max()):\n",
    "    labs[i][labs[i] < i] = 0\n",
    "    labs[i][labs[i] > i] = 0\n",
    "    labs[i][labs[i] > 0] = 1\n",
    "labs = np.array(labs)"
   ]
  },
  {
   "cell_type": "code",
   "execution_count": 78,
   "metadata": {},
   "outputs": [
    {
     "data": {
      "image/png": "[encoded data removed]",
      "text/plain": [
       "<matplotlib.figure.Figure at 0x12b20cf98>"
      ]
     },
     "metadata": {},
     "output_type": "display_data"
    }
   ],
   "source": [
    "plt.figure(figsize=(10,10))\n",
    "for i in range(1, 23):\n",
    "    plt.subplot(5, 5, i)\n",
    "    plt.imshow(labs[i])\n",
    "plt.show()"
   ]
  },
  {
   "cell_type": "code",
   "execution_count": 96,
   "metadata": {
    "collapsed": true
   },
   "outputs": [],
   "source": [
    "def dist(x0, x1):\n",
    "    return np.linalg.norm(np.array(x1)-np.array(x0))"
   ]
  },
  {
   "cell_type": "code",
   "execution_count": 126,
   "metadata": {},
   "outputs": [],
   "source": [
    "%matplotlib inline\n",
    "\n",
    "def plot_label(label):\n",
    "    lab_0 = label\n",
    "    nonzero_loc = np.argwhere(lab_0>0)\n",
    "    centroid_x = np.sum(nonzero_loc[:,1])/len(nonzero_loc)\n",
    "    centroid_y = np.sum(nonzero_loc[:,0])/len(nonzero_loc)\n",
    "    dists = []\n",
    "    l = len(lab_0)\n",
    "    for i in range(l):\n",
    "        for j in range(l):\n",
    "            if lab_0[i][j] > 0.5:\n",
    "                dists.append(dist((i,j), (centroid_y,centroid_x)))\n",
    "    dists = np.array(dists)\n",
    "    plt.hist(dists, bins=20)"
   ]
  },
  {
   "cell_type": "code",
   "execution_count": 129,
   "metadata": {},
   "outputs": [
    {
     "data": {
      "image/png": "[encoded data removed]",
      "text/plain": [
       "<matplotlib.figure.Figure at 0x144ce5780>"
      ]
     },
     "metadata": {},
     "output_type": "display_data"
    }
   ],
   "source": [
    "plt.figure(figsize=(10,10))\n",
    "for i in range(1, len(labs)):\n",
    "    plt.subplot(5, 5, i)\n",
    "    plot_label(labs[i])"
   ]
  },
  {
   "cell_type": "code",
   "execution_count": null,
   "metadata": {
    "collapsed": true
   },
   "outputs": [],
   "source": []
  },
  {
   "cell_type": "code",
   "execution_count": null,
   "metadata": {
    "collapsed": true
   },
   "outputs": [],
   "source": []
  },
  {
   "cell_type": "code",
   "execution_count": null,
   "metadata": {
    "collapsed": true
   },
   "outputs": [],
   "source": []
  },
  {
   "cell_type": "code",
   "execution_count": null,
   "metadata": {
    "collapsed": true
   },
   "outputs": [],
   "source": []
  },
  {
   "cell_type": "code",
   "execution_count": null,
   "metadata": {
    "collapsed": true
   },
   "outputs": [],
   "source": []
  },
  {
   "cell_type": "code",
   "execution_count": 79,
   "metadata": {},
   "outputs": [
    {
     "name": "stdout",
     "output_type": "stream",
     "text": [
      "23\n"
     ]
    }
   ],
   "source": [
    "rle = list(prob_to_rles(np.asarray(Y_train[0]), 0.5))\n",
    "print(len(rle))"
   ]
  },
  {
   "cell_type": "markdown",
   "metadata": {
    "_cell_guid": "31133f8c-3f40-4dff-8e1d-898d56672332",
    "_uuid": "2e07f6afc4787b068ba714428145dcb3951d718f"
   },
   "source": [
    "Let's iterate over the test IDs and generate run-length encodings for each seperate mask identified by skimage ..."
   ]
  },
  {
   "cell_type": "code",
   "execution_count": null,
   "metadata": {
    "_cell_guid": "22fe24a1-7659-4cc9-9d23-211f38e5b99f",
    "_uuid": "089587843ed6a3955fdcb9b23a6ec3bf5d703688",
    "collapsed": true
   },
   "outputs": [],
   "source": [
    "new_test_ids = []\n",
    "rles = []\n",
    "for n, id_ in enumerate(test_ids):\n",
    "    rle = list(prob_to_rles(preds_test_upsampled[n]))\n",
    "    rles.extend(rle)\n",
    "    new_test_ids.extend([id_] * len(rle))"
   ]
  },
  {
   "cell_type": "markdown",
   "metadata": {
    "_cell_guid": "20b6b627-0fd6-425d-888f-da7f39efb124",
    "_uuid": "849184a40a2c9c21506d8b8eb10ad9155fa229e8"
   },
   "source": [
    "... and then finally create our submission!"
   ]
  },
  {
   "cell_type": "code",
   "execution_count": null,
   "metadata": {
    "_cell_guid": "1ba0ee3a-cca0-4349-83f6-09a1ac6fcb44",
    "_uuid": "ba589f56f5be1e6886bc88f5bf9e7d0a408e4048",
    "collapsed": true
   },
   "outputs": [],
   "source": [
    "# Create submission DataFrame\n",
    "sub = pd.DataFrame()\n",
    "sub['ImageId'] = new_test_ids\n",
    "sub['EncodedPixels'] = pd.Series(rles).apply(lambda x: ' '.join(str(y) for y in x))\n",
    "sub.to_csv('sub-dsbowl2018-1.csv', index=False)"
   ]
  },
  {
   "cell_type": "markdown",
   "metadata": {
    "_cell_guid": "222475b9-3171-461a-90f0-a820a6bd2634",
    "_uuid": "fb5e6f8cca872f1bd7036f6d9ac2ed2cab615536",
    "collapsed": true
   },
   "source": [
    "This scored 0.233 on the LB for me. That was with version 2 of this notebook; be aware that the results from the neural network are extremely erratic and vary greatly from run to run (version 3 is significantly worse, for example).\n",
    "\n",
    "You should easily be able to stabilize and improve the results just by changing a few parameters, tweaking the architecture a little bit and training longer with early stopping.\n",
    "\n",
    "**Have fun!**"
   ]
  },
  {
   "cell_type": "code",
   "execution_count": null,
   "metadata": {
    "_cell_guid": "3f5e5a47-6133-4870-976a-a8e4fa7bf46c",
    "_uuid": "2a83eab66bf55194f300953bea5534b6a043130f",
    "collapsed": true
   },
   "outputs": [],
   "source": []
  }
 ],
 "metadata": {
  "kernelspec": {
   "display_name": "Python 3",
   "language": "python",
   "name": "python3"
  },
  "language_info": {
   "codemirror_mode": {
    "name": "ipython",
    "version": 3
   },
   "file_extension": ".py",
   "mimetype": "text/x-python",
   "name": "python",
   "nbconvert_exporter": "python",
   "pygments_lexer": "ipython3",
   "version": "3.6.4"
  }
 },
 "nbformat": 4,
 "nbformat_minor": 1
}
